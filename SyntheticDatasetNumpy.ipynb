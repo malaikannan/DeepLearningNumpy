{
 "cells": [
  {
   "cell_type": "code",
   "execution_count": 7,
   "metadata": {
    "collapsed": true
   },
   "outputs": [],
   "source": [
    "import numpy as np\n",
    "\n",
    "#sigmoid activation function\n",
    "# This can be replaced by other activation function like RELU, Tanh etc.\n",
    "def sigmoid(x,derivative=False):\n",
    "\n",
    "  if(derivative==True):\n",
    "      return x*(1-x)\n",
    "  return 1/(1+np.exp(-x))"
   ]
  },
  {
   "cell_type": "code",
   "execution_count": 8,
   "metadata": {
    "collapsed": true
   },
   "outputs": [],
   "source": [
    "#input dataset 3 columns and 4 rows\n",
    "x = np.array([[0,0,1],[0,1,1],[1,0,1],[1,1,1]])\n",
    "\n",
    "#Transposing Y to 4 rows and 1 column\n",
    "y = np.array([[0,0,1,1]]).T\n",
    "\n",
    "#for consistency of random seed\n",
    "#If you are in a relationship, use this to remember your anniversary date.\n",
    "#As long as your coding and training Deep Learning Models you will never forget your anniversary\n",
    "np.random.seed(12345)"
   ]
  },
  {
   "cell_type": "code",
   "execution_count": 9,
   "metadata": {
    "collapsed": true
   },
   "outputs": [],
   "source": [
    "synapses_0 = 2*np.random.random((3, 4))-1\n",
    "synapses_1 = 2*np.random.random((4, 1)) - 1\n",
    "\n",
    "#number of epochs\n",
    "n_epoch = 50"
   ]
  },
  {
   "cell_type": "code",
   "execution_count": 11,
   "metadata": {},
   "outputs": [
    {
     "name": "stdout",
     "output_type": "stream",
     "text": [
      "0.507044432485\n",
      "0.506974660221\n",
      "0.506161088063\n",
      "0.504481022883\n",
      "0.502098285792\n",
      "0.499260071198\n",
      "0.496142841108\n",
      "0.492839586862\n",
      "0.489388727156\n",
      "0.485797729132\n",
      "0.482057198747\n",
      "0.478148922661\n",
      "0.474050538918\n",
      "0.469738326693\n",
      "0.465188931252\n",
      "0.460380487569\n",
      "0.455293411959\n",
      "0.449911017963\n",
      "0.444220044217\n",
      "0.438211139189\n",
      "0.431879319148\n",
      "0.425224395205\n",
      "0.418251349139\n",
      "0.410970625198\n",
      "0.403398296654\n",
      "0.395556063285\n",
      "0.3874710407\n",
      "0.379175315345\n",
      "0.370705259286\n",
      "0.36210062391\n",
      "0.35340345738\n",
      "0.344656912246\n",
      "0.335904022868\n",
      "0.327186534865\n",
      "0.318543860432\n",
      "0.31001221631\n",
      "0.301623979027\n",
      "0.29340726889\n",
      "0.28538575364\n",
      "0.277578646977\n",
      "0.270000867366\n",
      "0.262663318333\n",
      "0.255573251908\n",
      "0.24873468055\n",
      "0.242148808476\n",
      "0.235814459602\n",
      "0.229728485494\n",
      "0.223886142252\n",
      "0.218281429858\n",
      "0.212907391139\n",
      "Output after training\n",
      "[[ 0.22681227]\n",
      " [ 0.18655437]\n",
      " [ 0.79589024]\n",
      " [ 0.76584683]]\n"
     ]
    }
   ],
   "source": [
    "for iter in range(n_epoch):\n",
    "    l0 = x\n",
    "    l1 = sigmoid(np.dot(l0,synapses_0))\n",
    "    l2 = sigmoid(np.dot(l1,synapses_1))\n",
    "    l2_error = y-l2\n",
    "    error = np.mean(np.abs(l2_error))\n",
    "    print(error)\n",
    "    #calculating weights difference using gradient\n",
    "    l2_delta = l2_error*sigmoid(l2, derivative=True)\n",
    "    l1_error = l2_delta.dot(synapses_1.T)\n",
    "\n",
    "    l1_delta = l1_error*sigmoid(l1, derivative=True)\n",
    "        #update weights\n",
    "    synapses_1 += l1.T.dot(l2_delta)\n",
    "    synapses_0 += l0.T.dot(l1_delta)\n",
    "\n",
    "print(\"Output after training\")\n",
    "print(l2)"
   ]
  },
  {
   "cell_type": "code",
   "execution_count": null,
   "metadata": {
    "collapsed": true
   },
   "outputs": [],
   "source": []
  }
 ],
 "metadata": {
  "kernelspec": {
   "display_name": "Python 3",
   "language": "python",
   "name": "python3"
  },
  "language_info": {
   "codemirror_mode": {
    "name": "ipython",
    "version": 3
   },
   "file_extension": ".py",
   "mimetype": "text/x-python",
   "name": "python",
   "nbconvert_exporter": "python",
   "pygments_lexer": "ipython3",
   "version": "3.6.2"
  }
 },
 "nbformat": 4,
 "nbformat_minor": 2
}
